{
 "cells": [
  {
   "cell_type": "markdown",
   "id": "a5477fa8",
   "metadata": {},
   "source": [
    "## Importing necessary libraries\n",
    "\n",
    "- KafkaConsumer: A Kafka consumer client for subscribing to and consuming messages from Kafka topics.\n",
    "- sleep: A function to introduce delays in the execution.\n",
    "- dumps and loads: Functions for serializing and deserializing JSON data.\n",
    "- json: A library for working with JSON data.\n",
    "- S3FileSystem: A class from the s3fs library that provides an interface to interact with Amazon S3."
   ]
  },
  {
   "cell_type": "code",
   "execution_count": null,
   "id": "5272c12b",
   "metadata": {},
   "outputs": [],
   "source": [
    "from kafka import KafkaConsumer\n",
    "from time import sleep\n",
    "from json import dumps,loads\n",
    "import json\n",
    "from s3fs import S3FileSystem"
   ]
  },
  {
   "cell_type": "markdown",
   "id": "69a51b80",
   "metadata": {},
   "source": [
    "## Creating a Kafka consumer\n",
    "- create a Kafka consumer object named consumer that subscribes to the 'demo_testing2' topic.\n",
    "- specify the bootstrap servers (Kafka broker addresses) to connect to.\n",
    "- The value_deserializer parameter is set to deserialize the message value using UTF-8 decoding."
   ]
  },
  {
   "cell_type": "code",
   "execution_count": null,
   "id": "04a67f5f",
   "metadata": {},
   "outputs": [],
   "source": [
    "consumer = KafkaConsumer(\n",
    "    'demo_testing2',\n",
    "     bootstrap_servers=[':9092'], \n",
    "    value_deserializer=lambda x: loads(x.decode('utf-8')))"
   ]
  },
  {
   "cell_type": "markdown",
   "id": "62d811b9",
   "metadata": {},
   "source": [
    "## Consuming and printing messages from Kafka topic\n",
    "\n",
    "makeing a loop that continuously consumes messages from the Kafka topic and prints the message value."
   ]
  },
  {
   "cell_type": "code",
   "execution_count": null,
   "id": "73aa281d",
   "metadata": {
    "scrolled": true
   },
   "outputs": [],
   "source": [
    "for c in consumer:\n",
    "    print(c.value)"
   ]
  },
  {
   "cell_type": "markdown",
   "id": "98652264",
   "metadata": {},
   "source": [
    "## Creating an S3FileSystem object\n",
    "\n",
    "create an instance of the S3FileSystem class from the s3fs library, allowing interaction with Amazon S3."
   ]
  },
  {
   "cell_type": "code",
   "execution_count": null,
   "id": "a0c66c6a",
   "metadata": {},
   "outputs": [],
   "source": [
    "s3 = S3FileSystem()"
   ]
  },
  {
   "cell_type": "markdown",
   "id": "344396b2",
   "metadata": {},
   "source": [
    "## Printing and dumping messages to S3\n",
    "\n",
    "- This loop iterates over the Kafka consumer to consume messages.\n",
    "- It prints the count and value of each message received.\n",
    "- Inside the loop, it opens a file on Amazon S3 using the s3.open() method, specifying the S3 bucket and file path.\n",
    "- It then writes the JSON-serialized message value to the file using json.dump()."
   ]
  },
  {
   "cell_type": "code",
   "execution_count": null,
   "id": "c2d91a4c",
   "metadata": {
    "scrolled": true
   },
   "outputs": [],
   "source": [
    "for count, i in enumerate(consumer):\n",
    "    print(count)\n",
    "    print(i.value)\n",
    "    with s3.open(\"s3://kaf-pro-ubu-buc/stock_market_{}.json\".format(count), 'w') as file:\n",
    "        json.dump(i.value, file)    \n",
    "    "
   ]
  },
  {
   "cell_type": "code",
   "execution_count": null,
   "id": "45c6df31",
   "metadata": {},
   "outputs": [],
   "source": [
    "#or shorter way\n",
    "for count, i in enumerate(consumer):\n",
    "    with s3.open(\"s3://kaf-pro-ubu-buc/stock_market_{}.json\".format(count), 'w') as file:\n",
    "        json.dump(i.value, file)    "
   ]
  },
  {
   "cell_type": "code",
   "execution_count": null,
   "id": "a98cf087",
   "metadata": {},
   "outputs": [],
   "source": []
  },
  {
   "cell_type": "code",
   "execution_count": null,
   "id": "027c673e",
   "metadata": {},
   "outputs": [],
   "source": []
  }
 ],
 "metadata": {
  "kernelspec": {
   "display_name": "Python 3 (ipykernel)",
   "language": "python",
   "name": "python3"
  },
  "language_info": {
   "codemirror_mode": {
    "name": "ipython",
    "version": 3
   },
   "file_extension": ".py",
   "mimetype": "text/x-python",
   "name": "python",
   "nbconvert_exporter": "python",
   "pygments_lexer": "ipython3",
   "version": "3.10.9"
  }
 },
 "nbformat": 4,
 "nbformat_minor": 5
}
