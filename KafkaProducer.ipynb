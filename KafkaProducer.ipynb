{
 "cells": [
  {
   "cell_type": "markdown",
   "id": "7e266a04",
   "metadata": {},
   "source": [
    "## Importing necessary libraries\n",
    "\n",
    "- KafkaConsumer: A Kafka consumer client for subscribing to and consuming messages from Kafka topics.\n",
    "- sleep: A function to introduce delays in the execution.\n",
    "- dumps and loads: Functions for serializing and deserializing JSON data.\n",
    "- json: A library for working with JSON data."
   ]
  },
  {
   "cell_type": "code",
   "execution_count": 1,
   "id": "776c7330",
   "metadata": {},
   "outputs": [
    {
     "name": "stdout",
     "output_type": "stream",
     "text": [
      "Requirement already satisfied: kafka-python in c:\\users\\kimo store\\anaconda3\\lib\\site-packages (2.0.2)\n",
      "Note: you may need to restart the kernel to use updated packages.\n"
     ]
    }
   ],
   "source": [
    "pip install kafka-python\n",
    "pip install s3fs"
   ]
  },
  {
   "cell_type": "code",
   "execution_count": 1,
   "id": "ad1c6b59",
   "metadata": {},
   "outputs": [],
   "source": [
    "import pandas as pd\n",
    "from kafka import KafkaProducer\n",
    "from time import sleep\n",
    "from json import dumps\n",
    "import json"
   ]
  },
  {
   "cell_type": "markdown",
   "id": "a6c2e25f",
   "metadata": {},
   "source": [
    "## Creating a Kafka producer\n",
    "- This creates a Kafka producer object named producer.\n",
    "- The bootstrap_servers parameter specifies the Kafka broker addresses to connect to.\n",
    "- The value_serializer parameter is set to serialize the message value as JSON-encoded bytes.\n"
   ]
  },
  {
   "cell_type": "code",
   "execution_count": 2,
   "id": "b4acf4db",
   "metadata": {},
   "outputs": [],
   "source": [
    "producer = KafkaProducer(bootstrap_servers=[':9092'], #change ip here\n",
    "                         value_serializer=lambda x: \n",
    "                         dumps(x).encode('utf-8')) #sending json data"
   ]
  },
  {
   "cell_type": "markdown",
   "id": "0d75c9fd",
   "metadata": {},
   "source": [
    "## Sending a single message to Kafka topic:\n",
    "- This sends a single message to the Kafka topic named 'demo_testing2'.\n",
    "- The message value is a dictionary with a single key-value pair."
   ]
  },
  {
   "cell_type": "code",
   "execution_count": 8,
   "id": "4d6494b2",
   "metadata": {},
   "outputs": [
    {
     "data": {
      "text/plain": [
       "<kafka.producer.future.FutureRecordMetadata at 0x17ce1c4eb90>"
      ]
     },
     "execution_count": 8,
     "metadata": {},
     "output_type": "execute_result"
    }
   ],
   "source": [
    "producer.send('demo_testing2', value={'key':'value'})"
   ]
  },
  {
   "cell_type": "markdown",
   "id": "f383964a",
   "metadata": {},
   "source": [
    "##  Reading data from a CSV file\n",
    "\n",
    "This reads the data from a CSV file named 'indexProcessed.csv' into a pandas DataFrame named df."
   ]
  },
  {
   "cell_type": "code",
   "execution_count": 10,
   "id": "ff32abbc",
   "metadata": {},
   "outputs": [],
   "source": [
    "df = pd.read_csv(\"indexProcessed.csv\")"
   ]
  },
  {
   "cell_type": "code",
   "execution_count": 13,
   "id": "c926a221",
   "metadata": {},
   "outputs": [
    {
     "data": {
      "text/html": [
       "<div>\n",
       "<style scoped>\n",
       "    .dataframe tbody tr th:only-of-type {\n",
       "        vertical-align: middle;\n",
       "    }\n",
       "\n",
       "    .dataframe tbody tr th {\n",
       "        vertical-align: top;\n",
       "    }\n",
       "\n",
       "    .dataframe thead th {\n",
       "        text-align: right;\n",
       "    }\n",
       "</style>\n",
       "<table border=\"1\" class=\"dataframe\">\n",
       "  <thead>\n",
       "    <tr style=\"text-align: right;\">\n",
       "      <th></th>\n",
       "      <th>Index</th>\n",
       "      <th>Date</th>\n",
       "      <th>Open</th>\n",
       "      <th>High</th>\n",
       "      <th>Low</th>\n",
       "      <th>Close</th>\n",
       "      <th>Adj Close</th>\n",
       "      <th>Volume</th>\n",
       "      <th>CloseUSD</th>\n",
       "    </tr>\n",
       "  </thead>\n",
       "  <tbody>\n",
       "    <tr>\n",
       "      <th>0</th>\n",
       "      <td>HSI</td>\n",
       "      <td>1986-12-31</td>\n",
       "      <td>2568.300049</td>\n",
       "      <td>2568.300049</td>\n",
       "      <td>2568.300049</td>\n",
       "      <td>2568.300049</td>\n",
       "      <td>2568.300049</td>\n",
       "      <td>0.0</td>\n",
       "      <td>333.879006</td>\n",
       "    </tr>\n",
       "    <tr>\n",
       "      <th>1</th>\n",
       "      <td>HSI</td>\n",
       "      <td>1987-01-02</td>\n",
       "      <td>2540.100098</td>\n",
       "      <td>2540.100098</td>\n",
       "      <td>2540.100098</td>\n",
       "      <td>2540.100098</td>\n",
       "      <td>2540.100098</td>\n",
       "      <td>0.0</td>\n",
       "      <td>330.213013</td>\n",
       "    </tr>\n",
       "    <tr>\n",
       "      <th>2</th>\n",
       "      <td>HSI</td>\n",
       "      <td>1987-01-05</td>\n",
       "      <td>2552.399902</td>\n",
       "      <td>2552.399902</td>\n",
       "      <td>2552.399902</td>\n",
       "      <td>2552.399902</td>\n",
       "      <td>2552.399902</td>\n",
       "      <td>0.0</td>\n",
       "      <td>331.811987</td>\n",
       "    </tr>\n",
       "    <tr>\n",
       "      <th>3</th>\n",
       "      <td>HSI</td>\n",
       "      <td>1987-01-06</td>\n",
       "      <td>2583.899902</td>\n",
       "      <td>2583.899902</td>\n",
       "      <td>2583.899902</td>\n",
       "      <td>2583.899902</td>\n",
       "      <td>2583.899902</td>\n",
       "      <td>0.0</td>\n",
       "      <td>335.906987</td>\n",
       "    </tr>\n",
       "    <tr>\n",
       "      <th>4</th>\n",
       "      <td>HSI</td>\n",
       "      <td>1987-01-07</td>\n",
       "      <td>2607.100098</td>\n",
       "      <td>2607.100098</td>\n",
       "      <td>2607.100098</td>\n",
       "      <td>2607.100098</td>\n",
       "      <td>2607.100098</td>\n",
       "      <td>0.0</td>\n",
       "      <td>338.923013</td>\n",
       "    </tr>\n",
       "  </tbody>\n",
       "</table>\n",
       "</div>"
      ],
      "text/plain": [
       "  Index        Date         Open         High          Low        Close  \\\n",
       "0   HSI  1986-12-31  2568.300049  2568.300049  2568.300049  2568.300049   \n",
       "1   HSI  1987-01-02  2540.100098  2540.100098  2540.100098  2540.100098   \n",
       "2   HSI  1987-01-05  2552.399902  2552.399902  2552.399902  2552.399902   \n",
       "3   HSI  1987-01-06  2583.899902  2583.899902  2583.899902  2583.899902   \n",
       "4   HSI  1987-01-07  2607.100098  2607.100098  2607.100098  2607.100098   \n",
       "\n",
       "     Adj Close  Volume    CloseUSD  \n",
       "0  2568.300049     0.0  333.879006  \n",
       "1  2540.100098     0.0  330.213013  \n",
       "2  2552.399902     0.0  331.811987  \n",
       "3  2583.899902     0.0  335.906987  \n",
       "4  2607.100098     0.0  338.923013  "
      ]
     },
     "execution_count": 13,
     "metadata": {},
     "output_type": "execute_result"
    }
   ],
   "source": [
    "#print first 5 rows\n",
    "df.head()"
   ]
  },
  {
   "cell_type": "code",
   "execution_count": 12,
   "id": "a485775b",
   "metadata": {},
   "outputs": [
    {
     "data": {
      "text/plain": [
       "{'Index': '000001.SS',\n",
       " 'Date': '1997-10-21',\n",
       " 'Open': 1190.494995,\n",
       " 'High': 1192.339966,\n",
       " 'Low': 1179.573975,\n",
       " 'Close': 1191.869995,\n",
       " 'Adj Close': 1191.869995,\n",
       " 'Volume': 0.0,\n",
       " 'CloseUSD': 190.6991992}"
      ]
     },
     "execution_count": 12,
     "metadata": {},
     "output_type": "execute_result"
    }
   ],
   "source": [
    "# converting a random row inta a json file to show how the data will be sent to the topic\n",
    "df.sample(1).to_dict(orient=\"records\")[0]\n"
   ]
  },
  {
   "cell_type": "markdown",
   "id": "346f442c",
   "metadata": {},
   "source": [
    "## Generating and sending messages in a loop\n",
    "- This creates an infinite loop that repeatedly sends messages to the Kafka topic.\n",
    "- Inside the loop, it randomly samples a row from the DataFrame .\n",
    "- The selected row is converted to a dictionary using to_dict(orient=\"records\").\n",
    "- The resulting dictionary, dict_stock, represents the message value.\n",
    "- The message value is sent to the Kafka topic using producer.send().\n",
    "- The loop then pauses for 2 seconds using sleep(2)."
   ]
  },
  {
   "cell_type": "code",
   "execution_count": null,
   "id": "c6d661f6",
   "metadata": {},
   "outputs": [],
   "source": [
    "while True:\n",
    "    dict_stock = df.sample(1).to_dict(orient=\"records\")[0]\n",
    "    producer.send('demo_testing2', value=dict_stock)\n",
    "    sleep(2)"
   ]
  },
  {
   "cell_type": "markdown",
   "id": "31594e45",
   "metadata": {},
   "source": [
    "## Flushing the producer\n",
    "This flushes any remaining messages in the producer's buffer and ensures they are sent to the Kafka server.\n"
   ]
  },
  {
   "cell_type": "code",
   "execution_count": 9,
   "id": "a0f93d5e",
   "metadata": {},
   "outputs": [],
   "source": [
    "producer.flush() #clear data from kafka server"
   ]
  },
  {
   "cell_type": "code",
   "execution_count": null,
   "id": "2c809350",
   "metadata": {},
   "outputs": [],
   "source": []
  },
  {
   "cell_type": "code",
   "execution_count": null,
   "id": "6b6dea74",
   "metadata": {},
   "outputs": [],
   "source": []
  },
  {
   "cell_type": "code",
   "execution_count": null,
   "id": "82feb282",
   "metadata": {},
   "outputs": [],
   "source": []
  }
 ],
 "metadata": {
  "kernelspec": {
   "display_name": "Python 3 (ipykernel)",
   "language": "python",
   "name": "python3"
  },
  "language_info": {
   "codemirror_mode": {
    "name": "ipython",
    "version": 3
   },
   "file_extension": ".py",
   "mimetype": "text/x-python",
   "name": "python",
   "nbconvert_exporter": "python",
   "pygments_lexer": "ipython3",
   "version": "3.10.9"
  }
 },
 "nbformat": 4,
 "nbformat_minor": 5
}
